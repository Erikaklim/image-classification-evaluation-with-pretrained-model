{
  "cells": [
    {
      "cell_type": "markdown",
      "metadata": {
        "id": "view-in-github",
        "colab_type": "text"
      },
      "source": [
        "<a href=\"https://colab.research.google.com/github/Erikaklim/image-classification-evaluation-with-pretrained-model/blob/main/lab1final.ipynb\" target=\"_parent\"><img src=\"https://colab.research.google.com/assets/colab-badge.svg\" alt=\"Open In Colab\"/></a>"
      ]
    },
    {
      "cell_type": "code",
      "execution_count": null,
      "metadata": {
        "colab": {
          "base_uri": "https://localhost:8080/"
        },
        "id": "lrfwkwlSVia7",
        "outputId": "83255435-c98f-4f27-b4cb-feb7e4a1bb56"
      },
      "outputs": [
        {
          "name": "stdout",
          "output_type": "stream",
          "text": [
            "Collecting openimages\n",
            "  Downloading openimages-0.0.1-py2.py3-none-any.whl (10 kB)\n",
            "Collecting boto3 (from openimages)\n",
            "  Downloading boto3-1.34.49-py3-none-any.whl (139 kB)\n",
            "\u001b[2K     \u001b[90m━━━━━━━━━━━━━━━━━━━━━━━━━━━━━━━━━━━━━━━━\u001b[0m \u001b[32m139.3/139.3 kB\u001b[0m \u001b[31m3.2 MB/s\u001b[0m eta \u001b[36m0:00:00\u001b[0m\n",
            "\u001b[?25hCollecting cvdata (from openimages)\n",
            "  Downloading cvdata-0.0.3-py3-none-any.whl (37 kB)\n",
            "Requirement already satisfied: lxml in /usr/local/lib/python3.10/dist-packages (from openimages) (4.9.4)\n",
            "Requirement already satisfied: pandas in /usr/local/lib/python3.10/dist-packages (from openimages) (1.5.3)\n",
            "Requirement already satisfied: requests in /usr/local/lib/python3.10/dist-packages (from openimages) (2.31.0)\n",
            "Requirement already satisfied: tqdm in /usr/local/lib/python3.10/dist-packages (from openimages) (4.66.2)\n",
            "Collecting botocore<1.35.0,>=1.34.49 (from boto3->openimages)\n",
            "  Downloading botocore-1.34.49-py3-none-any.whl (12.0 MB)\n",
            "\u001b[2K     \u001b[90m━━━━━━━━━━━━━━━━━━━━━━━━━━━━━━━━━━━━━━━━\u001b[0m \u001b[32m12.0/12.0 MB\u001b[0m \u001b[31m27.2 MB/s\u001b[0m eta \u001b[36m0:00:00\u001b[0m\n",
            "\u001b[?25hCollecting jmespath<2.0.0,>=0.7.1 (from boto3->openimages)\n",
            "  Downloading jmespath-1.0.1-py3-none-any.whl (20 kB)\n",
            "Collecting s3transfer<0.11.0,>=0.10.0 (from boto3->openimages)\n",
            "  Downloading s3transfer-0.10.0-py3-none-any.whl (82 kB)\n",
            "\u001b[2K     \u001b[90m━━━━━━━━━━━━━━━━━━━━━━━━━━━━━━━━━━━━━━━━\u001b[0m \u001b[32m82.1/82.1 kB\u001b[0m \u001b[31m11.3 MB/s\u001b[0m eta \u001b[36m0:00:00\u001b[0m\n",
            "\u001b[?25hRequirement already satisfied: numpy in /usr/local/lib/python3.10/dist-packages (from cvdata->openimages) (1.25.2)\n",
            "Requirement already satisfied: opencv-python in /usr/local/lib/python3.10/dist-packages (from cvdata->openimages) (4.8.0.76)\n",
            "Requirement already satisfied: pillow in /usr/local/lib/python3.10/dist-packages (from cvdata->openimages) (9.4.0)\n",
            "Requirement already satisfied: python-dateutil>=2.8.1 in /usr/local/lib/python3.10/dist-packages (from pandas->openimages) (2.8.2)\n",
            "Requirement already satisfied: pytz>=2020.1 in /usr/local/lib/python3.10/dist-packages (from pandas->openimages) (2023.4)\n",
            "Requirement already satisfied: charset-normalizer<4,>=2 in /usr/local/lib/python3.10/dist-packages (from requests->openimages) (3.3.2)\n",
            "Requirement already satisfied: idna<4,>=2.5 in /usr/local/lib/python3.10/dist-packages (from requests->openimages) (3.6)\n",
            "Requirement already satisfied: urllib3<3,>=1.21.1 in /usr/local/lib/python3.10/dist-packages (from requests->openimages) (2.0.7)\n",
            "Requirement already satisfied: certifi>=2017.4.17 in /usr/local/lib/python3.10/dist-packages (from requests->openimages) (2024.2.2)\n",
            "Requirement already satisfied: six>=1.5 in /usr/local/lib/python3.10/dist-packages (from python-dateutil>=2.8.1->pandas->openimages) (1.16.0)\n",
            "Installing collected packages: jmespath, botocore, s3transfer, boto3, cvdata, openimages\n",
            "Successfully installed boto3-1.34.49 botocore-1.34.49 cvdata-0.0.3 jmespath-1.0.1 openimages-0.0.1 s3transfer-0.10.0\n"
          ]
        }
      ],
      "source": [
        "pip install openimages"
      ]
    },
    {
      "cell_type": "code",
      "execution_count": null,
      "metadata": {
        "id": "weVqYhIKVmRU"
      },
      "outputs": [],
      "source": [
        "import os\n",
        "from openimages.download import download_dataset\n",
        "import numpy as np\n",
        "import tensorflow as tf\n",
        "import tensorflow_hub as hub\n",
        "from openimages.download import download_dataset"
      ]
    },
    {
      "cell_type": "code",
      "execution_count": null,
      "metadata": {
        "id": "RfS56eBLixUX"
      },
      "outputs": [],
      "source": [
        "data_dir = \"data\"\n",
        "number_of_samples = 100\n",
        "dic = {\"Banana\": 954, \"Bicycle\": 444, \"Table\": 532}\n",
        "classes = list(dic.keys())\n",
        "indices = list(dic.values())\n",
        "T = [0.5, 0.8, 0.8]"
      ]
    },
    {
      "cell_type": "code",
      "execution_count": null,
      "metadata": {
        "colab": {
          "base_uri": "https://localhost:8080/"
        },
        "id": "kDHUip7wit70",
        "outputId": "dd2e1b7d-b593-4d0e-fcc9-8f4a6efda675"
      },
      "outputs": [
        {
          "name": "stderr",
          "output_type": "stream",
          "text": [
            "100%|██████████| 100/100 [00:03<00:00, 31.55it/s]\n",
            "100%|██████████| 100/100 [00:03<00:00, 31.60it/s]\n",
            "100%|██████████| 100/100 [00:03<00:00, 28.93it/s]\n"
          ]
        },
        {
          "data": {
            "text/plain": [
              "{'banana': {'images_dir': 'data/banana/images'},\n",
              " 'bicycle': {'images_dir': 'data/bicycle/images'},\n",
              " 'table': {'images_dir': 'data/table/images'}}"
            ]
          },
          "execution_count": 4,
          "metadata": {},
          "output_type": "execute_result"
        }
      ],
      "source": [
        "if not os.path.exists(data_dir):\n",
        "  os.makedirs(data_dir)\n",
        "\n",
        "download_dataset(data_dir, classes, limit=number_of_samples)"
      ]
    },
    {
      "cell_type": "code",
      "execution_count": null,
      "metadata": {
        "colab": {
          "base_uri": "https://localhost:8080/"
        },
        "id": "iejDEadeXPhN",
        "outputId": "7f0a17fc-39b2-4ca2-b3d6-564c1f160790"
      },
      "outputs": [
        {
          "name": "stdout",
          "output_type": "stream",
          "text": [
            "Found 300 files belonging to 3 classes.\n"
          ]
        }
      ],
      "source": [
        "train_ds = tf.keras.utils.image_dataset_from_directory(\n",
        "    directory='data',\n",
        "    labels='inferred',\n",
        "    label_mode='categorical',\n",
        "    image_size=(384, 384),\n",
        "    batch_size=32,\n",
        "    shuffle=False,\n",
        ")"
      ]
    },
    {
      "cell_type": "code",
      "execution_count": null,
      "metadata": {
        "colab": {
          "base_uri": "https://localhost:8080/"
        },
        "id": "l1XU_UUQXGaG",
        "outputId": "debf64e7-a72c-408a-9667-9fdf04d82765"
      },
      "outputs": [
        {
          "data": {
            "text/plain": [
              "['banana', 'bicycle', 'table']"
            ]
          },
          "execution_count": 6,
          "metadata": {},
          "output_type": "execute_result"
        }
      ],
      "source": [
        "train_ds.class_names"
      ]
    },
    {
      "cell_type": "code",
      "execution_count": null,
      "metadata": {
        "id": "fqHXUZ1JXOc6"
      },
      "outputs": [],
      "source": [
        "GT=[]\n",
        "for i in train_ds:\n",
        "    GT.extend(i[1].numpy())\n",
        "GT=np.array(GT)\n"
      ]
    },
    {
      "cell_type": "code",
      "execution_count": null,
      "metadata": {
        "colab": {
          "base_uri": "https://localhost:8080/"
        },
        "id": "AXKjhoW_XWiD",
        "outputId": "30f6f42a-6670-4f64-d275-ea9e0599fa04"
      },
      "outputs": [
        {
          "data": {
            "text/plain": [
              "array([[1., 0., 0.],\n",
              "       [1., 0., 0.],\n",
              "       [1., 0., 0.],\n",
              "       [1., 0., 0.]], dtype=float32)"
            ]
          },
          "execution_count": 8,
          "metadata": {},
          "output_type": "execute_result"
        }
      ],
      "source": [
        "GT[:4]"
      ]
    },
    {
      "cell_type": "code",
      "execution_count": null,
      "metadata": {
        "id": "GLpXtz7WXXOb"
      },
      "outputs": [],
      "source": [
        "AUTOTUNE = tf.data.AUTOTUNE\n",
        "train_ds = train_ds.cache().prefetch(buffer_size=AUTOTUNE)"
      ]
    },
    {
      "cell_type": "code",
      "execution_count": null,
      "metadata": {
        "colab": {
          "background_save": true,
          "base_uri": "https://localhost:8080/"
        },
        "id": "l_eF0XhmXZ8a",
        "outputId": "5b4809c4-584d-4e62-a6e5-99904d1ad6f4"
      },
      "outputs": [
        {
          "name": "stdout",
          "output_type": "stream",
          "text": [
            "Downloading data from https://storage.googleapis.com/tensorflow/keras-applications/efficientnet_v2/efficientnetv2-s.h5\n",
            "87549136/87549136 [==============================] - 1s 0us/step\n",
            "10/10 [==============================] - 157s 15s/step\n"
          ]
        }
      ],
      "source": [
        "model = tf.keras.applications.efficientnet_v2.EfficientNetV2S(weights='imagenet', classifier_activation=None)\n",
        "p=model.predict(train_ds)\n",
        "p_sigmoid = tf.nn.sigmoid(p).numpy()"
      ]
    },
    {
      "cell_type": "code",
      "execution_count": null,
      "metadata": {
        "colab": {
          "background_save": true
        },
        "id": "6FovFeImXcrZ",
        "outputId": "20710031-a19b-47a3-d344-d4658da880a8"
      },
      "outputs": [
        {
          "data": {
            "text/plain": [
              "array([[0.99437565, 0.44967565, 0.5905933 ],\n",
              "       [0.9998879 , 0.6503457 , 0.29258046],\n",
              "       [0.99722445, 0.490421  , 0.92366815],\n",
              "       [0.99988407, 0.6045027 , 0.36962274],\n",
              "       [0.99889755, 0.46561706, 0.8693796 ],\n",
              "       [0.9997267 , 0.51479906, 0.45745766],\n",
              "       [0.9999406 , 0.61279535, 0.34205896],\n",
              "       [0.9999191 , 0.6093657 , 0.35120243],\n",
              "       [0.98799896, 0.52766246, 0.3410908 ],\n",
              "       [0.9991727 , 0.7398686 , 0.35097173]], dtype=float32)"
            ]
          },
          "execution_count": 11,
          "metadata": {},
          "output_type": "execute_result"
        }
      ],
      "source": [
        "filtered_p = p_sigmoid[:, indices]\n",
        "filtered_p[:10]"
      ]
    },
    {
      "cell_type": "code",
      "execution_count": null,
      "metadata": {
        "colab": {
          "background_save": true
        },
        "id": "zBQqq5RfZYpW",
        "outputId": "ef100544-19a8-49d3-b061-d26f57131a31"
      },
      "outputs": [
        {
          "data": {
            "text/plain": [
              "array([[ True, False, False],\n",
              "       [ True, False, False],\n",
              "       [ True, False,  True],\n",
              "       [ True, False, False],\n",
              "       [ True, False,  True],\n",
              "       [ True, False, False],\n",
              "       [ True, False, False],\n",
              "       [ True, False, False],\n",
              "       [ True, False, False],\n",
              "       [ True, False, False]])"
            ]
          },
          "execution_count": 12,
          "metadata": {},
          "output_type": "execute_result"
        }
      ],
      "source": [
        "filtered_p[:10] > T"
      ]
    },
    {
      "cell_type": "code",
      "execution_count": null,
      "metadata": {
        "colab": {
          "background_save": true
        },
        "id": "WlPu4aRbZ3dm",
        "outputId": "7345b69e-2c10-471c-8dd9-beb5347c5c03"
      },
      "outputs": [
        {
          "data": {
            "text/plain": [
              "array([[1, 0, 0],\n",
              "       [1, 0, 0],\n",
              "       [1, 0, 1],\n",
              "       [1, 0, 0],\n",
              "       [1, 0, 1],\n",
              "       [1, 0, 0],\n",
              "       [1, 0, 0],\n",
              "       [1, 0, 0],\n",
              "       [1, 0, 0],\n",
              "       [1, 0, 0]], dtype=int16)"
            ]
          },
          "execution_count": 13,
          "metadata": {},
          "output_type": "execute_result"
        }
      ],
      "source": [
        "predictions = np.int16(filtered_p > T)\n",
        "predictions[:10]"
      ]
    },
    {
      "cell_type": "code",
      "execution_count": null,
      "metadata": {
        "colab": {
          "background_save": true
        },
        "id": "Q42cX7-HafNP",
        "outputId": "a070ec12-a796-4f01-986c-beb3ac4fc756"
      },
      "outputs": [
        {
          "data": {
            "text/plain": [
              "array([0, 0, 0, 0, 0, 0, 0, 0, 0, 0])"
            ]
          },
          "execution_count": 14,
          "metadata": {},
          "output_type": "execute_result"
        }
      ],
      "source": [
        "greatest_values = np.argmax(filtered_p, axis=1)\n",
        "greatest_values[:10]"
      ]
    },
    {
      "cell_type": "code",
      "execution_count": null,
      "metadata": {
        "colab": {
          "background_save": true
        },
        "id": "VRsH9U_FdGeO",
        "outputId": "b37eb76e-9e61-4765-9f5c-1ad9ce8b5b61"
      },
      "outputs": [
        {
          "data": {
            "text/plain": [
              "['Banana',\n",
              " 'Banana',\n",
              " 'Banana',\n",
              " 'Banana',\n",
              " 'Banana',\n",
              " 'Banana',\n",
              " 'Banana',\n",
              " 'Banana',\n",
              " 'Banana',\n",
              " 'Banana']"
            ]
          },
          "execution_count": 15,
          "metadata": {},
          "output_type": "execute_result"
        }
      ],
      "source": [
        "results = [\n",
        "    classes[i]\n",
        "    for i in greatest_values\n",
        "    for item in filtered_p\n",
        "    if(item[i] > T[i])\n",
        "]\n",
        "results[:10]"
      ]
    },
    {
      "cell_type": "code",
      "execution_count": null,
      "metadata": {
        "colab": {
          "background_save": true
        },
        "id": "NcZtKIbpe8J0",
        "outputId": "befa5e33-dca3-41ec-fb40-b4583ab6c147"
      },
      "outputs": [
        {
          "data": {
            "text/plain": [
              "0.5266666666666666"
            ]
          },
          "execution_count": 16,
          "metadata": {},
          "output_type": "execute_result"
        }
      ],
      "source": [
        "from sklearn.metrics import accuracy_score\n",
        "accuracy_score(GT, predictions)\n"
      ]
    },
    {
      "cell_type": "code",
      "execution_count": null,
      "metadata": {
        "colab": {
          "background_save": true
        },
        "id": "mKfEqA9RfQHF",
        "outputId": "527e2f71-2de7-4c2e-fedc-e020ee38695f"
      },
      "outputs": [
        {
          "name": "stdout",
          "output_type": "stream",
          "text": [
            "              precision    recall  f1-score   support\n",
            "\n",
            "           0       0.45      1.00      0.62       100\n",
            "           1       0.93      0.97      0.95       100\n",
            "           2       0.92      0.83      0.87       100\n",
            "\n",
            "   micro avg       0.67      0.93      0.78       300\n",
            "   macro avg       0.77      0.93      0.81       300\n",
            "weighted avg       0.77      0.93      0.81       300\n",
            " samples avg       0.73      0.93      0.80       300\n",
            "\n"
          ]
        }
      ],
      "source": [
        "from sklearn.metrics import classification_report\n",
        "print(classification_report(GT, predictions))"
      ]
    }
  ],
  "metadata": {
    "colab": {
      "provenance": [],
      "authorship_tag": "ABX9TyM/rtnP3N22Y35uN+ZeKqOC",
      "include_colab_link": true
    },
    "kernelspec": {
      "display_name": "Python 3",
      "name": "python3"
    },
    "language_info": {
      "name": "python"
    }
  },
  "nbformat": 4,
  "nbformat_minor": 0
}